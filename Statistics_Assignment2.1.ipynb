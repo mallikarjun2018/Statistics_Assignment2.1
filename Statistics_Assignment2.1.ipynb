{
 "cells": [
  {
   "cell_type": "markdown",
   "metadata": {},
   "source": [
    "Problem Statement 1:\n",
    "A test is conducted which is consisting of 20 MCQs (multiple choices questions) with\n",
    "every MCQ having its four options out of which only one is correct. Determine the\n",
    "probability that a person undertaking that test has answered exactly 5 questions wrong.\n",
    "\n",
    "Solution:\n",
    "\n",
    "\n",
    "total question (n) = 20\n",
    "wrong questions = 5\n",
    "k = 20 - 5 = 15\n",
    "\n",
    "Probability of right answer = a = 14\n",
    "probability of wrong answer = 1 - a = 1 - 14 = 34\n",
    "\n",
    "P (5 out of 20) = ((20∗19∗18∗17∗16)/(5∗4∗3∗2∗1)) * (1/4)^15 * (3/4)^5\n",
    "\n",
    "= 0.0000034\n",
    "\n",
    "Required probability is 0.0000034 approximately.\n",
    "\n"
   ]
  }
 ],
 "metadata": {
  "kernelspec": {
   "display_name": "Python 3",
   "language": "python",
   "name": "python3"
  },
  "language_info": {
   "codemirror_mode": {
    "name": "ipython",
    "version": 3
   },
   "file_extension": ".py",
   "mimetype": "text/x-python",
   "name": "python",
   "nbconvert_exporter": "python",
   "pygments_lexer": "ipython3",
   "version": "3.6.4"
  }
 },
 "nbformat": 4,
 "nbformat_minor": 2
}
